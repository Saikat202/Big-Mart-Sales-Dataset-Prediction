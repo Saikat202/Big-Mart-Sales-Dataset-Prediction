{
 "cells": [
  {
   "cell_type": "code",
   "execution_count": 32,
   "id": "771c3ce5",
   "metadata": {},
   "outputs": [],
   "source": [
    "# Libraries to be imported\n",
    "import pandas as pd \n",
    "import tensorflow as tf\n",
    "import matplotlib.pyplot as plt\n",
    "from sklearn.model_selection import train_test_split\n",
    "from sklearn.preprocessing import LabelEncoder, MinMaxScaler"
   ]
  },
  {
   "cell_type": "code",
   "execution_count": 8,
   "id": "d0375463",
   "metadata": {},
   "outputs": [],
   "source": [
    "# Create the DataFrame\n",
    "df = pd.DataFrame({\n",
    "    'Item_Identifier': ['FDA15', 'DRC01', 'FDN15', 'FDX07', 'NCD19'],\n",
    "    'Item_Weight': [9.3, 5.92, 17.5, 19.2, 8.93],\n",
    "    'Item_Fat_Content': ['Low Fat', 'Regular', 'Low Fat', 'Regular', 'Low Fat'],\n",
    "    'Item_Visibility': [0.016, 0.019, 0.016, 0.0, 0.0],\n",
    "    'Item_Type': ['Fruit and Vegetables', 'Soft Drinks', 'Snack Foods', 'Frozen Foods', 'Household'],\n",
    "    'Item_MRP': [249.8092, 48.2692, 141.618, 182.095, 53.8614],\n",
    "    'Outlet_Identifier': ['OUT049', 'OUT018', 'OUT049', 'OUT010', 'OUT013'],\n",
    "    'Outlet_Establishment_Year': [1999, 2009, 1999, 1998, 1987],\n",
    "    'Outlet_Size': ['Medium', 'Medium', 'Medium', 'Small', 'High'],\n",
    "    'Outlet_Location_Type': ['Tier 1', 'Tier 3', 'Tier 1', 'Tier 3', 'Tier 3'],\n",
    "    'Outlet_Type': ['Supermarket Type1', 'Supermarket Type2', 'Supermarket Type1', 'Grocery Store', 'Supermarket Type1'],\n",
    "    'Item_Outlet_Sales': [3735.138, 443.4228, 2097.27, 732.38, 994.7052]\n",
    "})\n"
   ]
  },
  {
   "cell_type": "code",
   "execution_count": 9,
   "id": "ecfd6156",
   "metadata": {},
   "outputs": [],
   "source": [
    "# Save the DataFrame as a CSV file\n",
    "df.to_csv('bigmart_sales.csv', index=False)"
   ]
  },
  {
   "cell_type": "code",
   "execution_count": 10,
   "id": "c6377a90",
   "metadata": {},
   "outputs": [
    {
     "data": {
      "text/html": [
       "<div>\n",
       "<style scoped>\n",
       "    .dataframe tbody tr th:only-of-type {\n",
       "        vertical-align: middle;\n",
       "    }\n",
       "\n",
       "    .dataframe tbody tr th {\n",
       "        vertical-align: top;\n",
       "    }\n",
       "\n",
       "    .dataframe thead th {\n",
       "        text-align: right;\n",
       "    }\n",
       "</style>\n",
       "<table border=\"1\" class=\"dataframe\">\n",
       "  <thead>\n",
       "    <tr style=\"text-align: right;\">\n",
       "      <th></th>\n",
       "      <th>Item_Identifier</th>\n",
       "      <th>Item_Weight</th>\n",
       "      <th>Item_Fat_Content</th>\n",
       "      <th>Item_Visibility</th>\n",
       "      <th>Item_Type</th>\n",
       "      <th>Item_MRP</th>\n",
       "      <th>Outlet_Identifier</th>\n",
       "      <th>Outlet_Establishment_Year</th>\n",
       "      <th>Outlet_Size</th>\n",
       "      <th>Outlet_Location_Type</th>\n",
       "      <th>Outlet_Type</th>\n",
       "      <th>Item_Outlet_Sales</th>\n",
       "    </tr>\n",
       "  </thead>\n",
       "  <tbody>\n",
       "    <tr>\n",
       "      <th>0</th>\n",
       "      <td>FDA15</td>\n",
       "      <td>9.30</td>\n",
       "      <td>Low Fat</td>\n",
       "      <td>0.016</td>\n",
       "      <td>Fruit and Vegetables</td>\n",
       "      <td>249.8092</td>\n",
       "      <td>OUT049</td>\n",
       "      <td>1999</td>\n",
       "      <td>Medium</td>\n",
       "      <td>Tier 1</td>\n",
       "      <td>Supermarket Type1</td>\n",
       "      <td>3735.1380</td>\n",
       "    </tr>\n",
       "    <tr>\n",
       "      <th>1</th>\n",
       "      <td>DRC01</td>\n",
       "      <td>5.92</td>\n",
       "      <td>Regular</td>\n",
       "      <td>0.019</td>\n",
       "      <td>Soft Drinks</td>\n",
       "      <td>48.2692</td>\n",
       "      <td>OUT018</td>\n",
       "      <td>2009</td>\n",
       "      <td>Medium</td>\n",
       "      <td>Tier 3</td>\n",
       "      <td>Supermarket Type2</td>\n",
       "      <td>443.4228</td>\n",
       "    </tr>\n",
       "    <tr>\n",
       "      <th>2</th>\n",
       "      <td>FDN15</td>\n",
       "      <td>17.50</td>\n",
       "      <td>Low Fat</td>\n",
       "      <td>0.016</td>\n",
       "      <td>Snack Foods</td>\n",
       "      <td>141.6180</td>\n",
       "      <td>OUT049</td>\n",
       "      <td>1999</td>\n",
       "      <td>Medium</td>\n",
       "      <td>Tier 1</td>\n",
       "      <td>Supermarket Type1</td>\n",
       "      <td>2097.2700</td>\n",
       "    </tr>\n",
       "    <tr>\n",
       "      <th>3</th>\n",
       "      <td>FDX07</td>\n",
       "      <td>19.20</td>\n",
       "      <td>Regular</td>\n",
       "      <td>0.000</td>\n",
       "      <td>Frozen Foods</td>\n",
       "      <td>182.0950</td>\n",
       "      <td>OUT010</td>\n",
       "      <td>1998</td>\n",
       "      <td>Small</td>\n",
       "      <td>Tier 3</td>\n",
       "      <td>Grocery Store</td>\n",
       "      <td>732.3800</td>\n",
       "    </tr>\n",
       "    <tr>\n",
       "      <th>4</th>\n",
       "      <td>NCD19</td>\n",
       "      <td>8.93</td>\n",
       "      <td>Low Fat</td>\n",
       "      <td>0.000</td>\n",
       "      <td>Household</td>\n",
       "      <td>53.8614</td>\n",
       "      <td>OUT013</td>\n",
       "      <td>1987</td>\n",
       "      <td>High</td>\n",
       "      <td>Tier 3</td>\n",
       "      <td>Supermarket Type1</td>\n",
       "      <td>994.7052</td>\n",
       "    </tr>\n",
       "  </tbody>\n",
       "</table>\n",
       "</div>"
      ],
      "text/plain": [
       "  Item_Identifier  Item_Weight Item_Fat_Content  Item_Visibility  \\\n",
       "0           FDA15         9.30          Low Fat            0.016   \n",
       "1           DRC01         5.92          Regular            0.019   \n",
       "2           FDN15        17.50          Low Fat            0.016   \n",
       "3           FDX07        19.20          Regular            0.000   \n",
       "4           NCD19         8.93          Low Fat            0.000   \n",
       "\n",
       "              Item_Type  Item_MRP Outlet_Identifier  \\\n",
       "0  Fruit and Vegetables  249.8092            OUT049   \n",
       "1           Soft Drinks   48.2692            OUT018   \n",
       "2           Snack Foods  141.6180            OUT049   \n",
       "3          Frozen Foods  182.0950            OUT010   \n",
       "4             Household   53.8614            OUT013   \n",
       "\n",
       "   Outlet_Establishment_Year Outlet_Size Outlet_Location_Type  \\\n",
       "0                       1999      Medium               Tier 1   \n",
       "1                       2009      Medium               Tier 3   \n",
       "2                       1999      Medium               Tier 1   \n",
       "3                       1998       Small               Tier 3   \n",
       "4                       1987        High               Tier 3   \n",
       "\n",
       "         Outlet_Type  Item_Outlet_Sales  \n",
       "0  Supermarket Type1          3735.1380  \n",
       "1  Supermarket Type2           443.4228  \n",
       "2  Supermarket Type1          2097.2700  \n",
       "3      Grocery Store           732.3800  \n",
       "4  Supermarket Type1           994.7052  "
      ]
     },
     "execution_count": 10,
     "metadata": {},
     "output_type": "execute_result"
    }
   ],
   "source": [
    "#import pandas as pd\n",
    "data = pd.read_csv('bigmart_sales.csv')\n",
    "df\n"
   ]
  },
  {
   "cell_type": "code",
   "execution_count": 17,
   "id": "d2fff01f",
   "metadata": {},
   "outputs": [],
   "source": [
    "# Preprocessing\n",
    "df['Item_Weight'].fillna((df['Item_Weight'].mean()), inplace=True) #fillna is used to fill the empty spaces of column or row\n",
    "df['Outlet_Size'].fillna(('Medium'), inplace=True)"
   ]
  },
  {
   "cell_type": "code",
   "execution_count": 20,
   "id": "e2b06eaa",
   "metadata": {},
   "outputs": [],
   "source": [
    "le = LabelEncoder() #to convert categorical variables to numeric data\n",
    "df['Outlet'] = le.fit_transform(df['Outlet_Identifier'])"
   ]
  },
  {
   "cell_type": "code",
   "execution_count": 21,
   "id": "08387976",
   "metadata": {},
   "outputs": [],
   "source": [
    "df = pd.get_dummies(df, columns=['Item_Fat_Content', 'Outlet_Location_Type', 'Outlet_Type']) #to set text data as dummy (binary) variables"
   ]
  },
  {
   "cell_type": "code",
   "execution_count": 22,
   "id": "f24197cf",
   "metadata": {},
   "outputs": [],
   "source": [
    "scaler = MinMaxScaler() #transform features by scaling each feature to a given range\n",
    "df[['Item_Weight', 'Item_Visibility', 'Item_MRP', 'Outlet_Establishment_Year']] = scaler.fit_transform(df[['Item_Weight', 'Item_Visibility', 'Item_MRP', 'Outlet_Establishment_Year']])\n",
    "                                                                                  #it is used on the training data so that we can scale the training data and also learn the scaling parameters of the data"
   ]
  },
  {
   "cell_type": "code",
   "execution_count": 11,
   "id": "4a7d0030",
   "metadata": {},
   "outputs": [],
   "source": [
    "# Convert categorical variables to numerical values using one-hot encoding\n",
    "import pandas as pd\n",
    "data = pd.get_dummies(data, columns=['Item_Identifier', 'Item_Fat_Content', 'Item_Type', 'Outlet_Identifier', 'Outlet_Size', 'Outlet_Location_Type', 'Outlet_Type'])"
   ]
  },
  {
   "cell_type": "code",
   "execution_count": 15,
   "id": "df24ee00",
   "metadata": {},
   "outputs": [],
   "source": [
    "# Split the data into input and output variables\n",
    "X = data.drop(['Item_Outlet_Sales'], axis=1).values.astype('float32')\n",
    "y = data['Item_Outlet_Sales'].values.astype('float32')"
   ]
  },
  {
   "cell_type": "code",
   "execution_count": 18,
   "id": "86dea89e",
   "metadata": {},
   "outputs": [],
   "source": [
    "# Split the data into training and testing sets\n",
    "X_train, X_test, y_train, y_test = train_test_split(X, y, test_size=0.2, random_state=42)\n",
    "#training sets are commonly used to estimate different parameters or to compare different model performance\n",
    "#the testing data set is used after the training is done"
   ]
  },
  {
   "cell_type": "code",
   "execution_count": 19,
   "id": "924ae490",
   "metadata": {},
   "outputs": [],
   "source": [
    "# Define the model architecture\n",
    "#the core idea of sequential API is simply arranging the keras layers in a sequential order and \n",
    "#so is called sequential API\n",
    "#keras is a open source software library \n",
    "model = tf.keras.Sequential([\n",
    "    tf.keras.layers.Dense(64, activation='relu', input_shape=(X_train.shape[1],)),\n",
    "    tf.keras.layers.Dense(32, activation='relu'),\n",
    "    tf.keras.layers.Dense(1)\n",
    "])"
   ]
  },
  {
   "cell_type": "code",
   "execution_count": 31,
   "id": "1edab490",
   "metadata": {},
   "outputs": [],
   "source": [
    "# Compile the model with an appropriate loss function and optimizer\n",
    "model.compile(loss='mse', optimizer='adam') #metrics=['mae'])\n",
    "#mse(mean squared error) = cost function\n",
    "#adam = it is a replacement optimization algo for stochastic gradient descent "
   ]
  },
  {
   "cell_type": "code",
   "execution_count": 25,
   "id": "e98da009",
   "metadata": {},
   "outputs": [
    {
     "name": "stdout",
     "output_type": "stream",
     "text": [
      "Epoch 1/50\n",
      "1/1 [==============================] - 0s 479ms/step - loss: 6111978.0000 - mae: 2172.5493 - val_loss: 490907.2812 - val_mae: 700.6478\n",
      "Epoch 2/50\n",
      "1/1 [==============================] - 0s 24ms/step - loss: 5966677.0000 - mae: 2138.8896 - val_loss: 445014.0625 - val_mae: 667.0938\n",
      "Epoch 3/50\n",
      "1/1 [==============================] - 0s 24ms/step - loss: 5824825.0000 - mae: 2105.5093 - val_loss: 401731.4375 - val_mae: 633.8229\n",
      "Epoch 4/50\n",
      "1/1 [==============================] - 0s 31ms/step - loss: 5689211.0000 - mae: 2072.8379 - val_loss: 361252.2188 - val_mae: 601.0426\n",
      "Epoch 5/50\n",
      "1/1 [==============================] - 0s 24ms/step - loss: 5563561.0000 - mae: 2042.0179 - val_loss: 326044.0625 - val_mae: 571.0027\n",
      "Epoch 6/50\n",
      "1/1 [==============================] - 0s 25ms/step - loss: 5443445.5000 - mae: 2012.3743 - val_loss: 293058.3438 - val_mae: 541.3486\n",
      "Epoch 7/50\n",
      "1/1 [==============================] - 0s 30ms/step - loss: 5326551.0000 - mae: 1983.1221 - val_loss: 262208.8125 - val_mae: 512.0633\n",
      "Epoch 8/50\n",
      "1/1 [==============================] - 0s 25ms/step - loss: 5212316.0000 - mae: 1954.1375 - val_loss: 235321.2812 - val_mae: 485.0992\n",
      "Epoch 9/50\n",
      "1/1 [==============================] - 0s 24ms/step - loss: 5101470.5000 - mae: 1925.8257 - val_loss: 213093.1875 - val_mae: 461.6202\n",
      "Epoch 10/50\n",
      "1/1 [==============================] - 0s 30ms/step - loss: 4998995.0000 - mae: 1899.9255 - val_loss: 191967.0000 - val_mae: 438.1404\n",
      "Epoch 11/50\n",
      "1/1 [==============================] - 0s 30ms/step - loss: 4907677.5000 - mae: 1875.9807 - val_loss: 174566.0938 - val_mae: 417.8111\n",
      "Epoch 12/50\n",
      "1/1 [==============================] - 0s 30ms/step - loss: 4821612.5000 - mae: 1853.2245 - val_loss: 160644.7656 - val_mae: 400.8051\n",
      "Epoch 13/50\n",
      "1/1 [==============================] - 0s 23ms/step - loss: 4752502.0000 - mae: 1835.1846 - val_loss: 147264.1250 - val_mae: 383.7501\n",
      "Epoch 14/50\n",
      "1/1 [==============================] - 0s 25ms/step - loss: 4689578.5000 - mae: 1818.0642 - val_loss: 134381.3594 - val_mae: 366.5806\n",
      "Epoch 15/50\n",
      "1/1 [==============================] - 0s 24ms/step - loss: 4626927.0000 - mae: 1800.8820 - val_loss: 122022.8438 - val_mae: 349.3177\n",
      "Epoch 16/50\n",
      "1/1 [==============================] - 0s 24ms/step - loss: 4564569.0000 - mae: 1783.6099 - val_loss: 110206.8750 - val_mae: 331.9742\n",
      "Epoch 17/50\n",
      "1/1 [==============================] - 0s 30ms/step - loss: 4502564.0000 - mae: 1766.2621 - val_loss: 98944.3828 - val_mae: 314.5543\n",
      "Epoch 18/50\n",
      "1/1 [==============================] - 0s 24ms/step - loss: 4441201.5000 - mae: 1748.8799 - val_loss: 88245.5859 - val_mae: 297.0616\n",
      "Epoch 19/50\n",
      "1/1 [==============================] - 0s 24ms/step - loss: 4380224.5000 - mae: 1731.4290 - val_loss: 78334.8672 - val_mae: 279.8837\n",
      "Epoch 20/50\n",
      "1/1 [==============================] - 0s 31ms/step - loss: 4320149.5000 - mae: 1714.0637 - val_loss: 69386.6641 - val_mae: 263.4135\n",
      "Epoch 21/50\n",
      "1/1 [==============================] - 0s 30ms/step - loss: 4263440.0000 - mae: 1697.5557 - val_loss: 60932.5391 - val_mae: 246.8452\n",
      "Epoch 22/50\n",
      "1/1 [==============================] - 0s 31ms/step - loss: 4207620.5000 - mae: 1681.0585 - val_loss: 53434.6914 - val_mae: 231.1595\n",
      "Epoch 23/50\n",
      "1/1 [==============================] - 0s 31ms/step - loss: 4152268.7500 - mae: 1664.6279 - val_loss: 47738.1680 - val_mae: 218.4907\n",
      "Epoch 24/50\n",
      "1/1 [==============================] - 0s 36ms/step - loss: 4100744.5000 - mae: 1649.7451 - val_loss: 42275.9375 - val_mae: 205.6111\n",
      "Epoch 25/50\n",
      "1/1 [==============================] - 0s 30ms/step - loss: 4055488.2500 - mae: 1636.4797 - val_loss: 37045.4258 - val_mae: 192.4719\n",
      "Epoch 26/50\n",
      "1/1 [==============================] - 0s 29ms/step - loss: 4012764.2500 - mae: 1623.3933 - val_loss: 32072.9746 - val_mae: 179.0893\n",
      "Epoch 27/50\n",
      "1/1 [==============================] - 0s 31ms/step - loss: 3970997.7500 - mae: 1610.2655 - val_loss: 27404.1719 - val_mae: 165.5421\n",
      "Epoch 28/50\n",
      "1/1 [==============================] - 0s 30ms/step - loss: 3930207.5000 - mae: 1597.1409 - val_loss: 23052.3164 - val_mae: 151.8299\n",
      "Epoch 29/50\n",
      "1/1 [==============================] - 0s 30ms/step - loss: 3889429.0000 - mae: 1584.1456 - val_loss: 19045.5078 - val_mae: 138.0055\n",
      "Epoch 30/50\n",
      "1/1 [==============================] - 0s 30ms/step - loss: 3849491.2500 - mae: 1571.3383 - val_loss: 15390.9961 - val_mae: 124.0605\n",
      "Epoch 31/50\n",
      "1/1 [==============================] - 0s 31ms/step - loss: 3809179.5000 - mae: 1558.3325 - val_loss: 12315.7021 - val_mae: 110.9761\n",
      "Epoch 32/50\n",
      "1/1 [==============================] - 0s 30ms/step - loss: 3768831.2500 - mae: 1545.3666 - val_loss: 9556.0176 - val_mae: 97.7549\n",
      "Epoch 33/50\n",
      "1/1 [==============================] - 0s 31ms/step - loss: 3728087.7500 - mae: 1532.1638 - val_loss: 7106.7607 - val_mae: 84.3016\n",
      "Epoch 34/50\n",
      "1/1 [==============================] - 0s 30ms/step - loss: 3686972.5000 - mae: 1518.7253 - val_loss: 4986.7915 - val_mae: 70.6172\n",
      "Epoch 35/50\n",
      "1/1 [==============================] - 0s 25ms/step - loss: 3645506.5000 - mae: 1505.0525 - val_loss: 3215.1094 - val_mae: 56.7019\n",
      "Epoch 36/50\n",
      "1/1 [==============================] - 0s 25ms/step - loss: 3603710.5000 - mae: 1491.1451 - val_loss: 1810.9663 - val_mae: 42.5555\n",
      "Epoch 37/50\n",
      "1/1 [==============================] - 0s 30ms/step - loss: 3561602.2500 - mae: 1477.0032 - val_loss: 793.9623 - val_mae: 28.1773\n",
      "Epoch 38/50\n",
      "1/1 [==============================] - 0s 30ms/step - loss: 3519199.0000 - mae: 1462.6256 - val_loss: 184.0573 - val_mae: 13.5668\n",
      "Epoch 39/50\n",
      "1/1 [==============================] - 0s 30ms/step - loss: 3476519.0000 - mae: 1448.0116 - val_loss: 1.6309 - val_mae: 1.2771\n",
      "Epoch 40/50\n",
      "1/1 [==============================] - 0s 36ms/step - loss: 3433579.2500 - mae: 1433.1600 - val_loss: 267.4984 - val_mae: 16.3554\n",
      "Epoch 41/50\n",
      "1/1 [==============================] - 0s 37ms/step - loss: 3390397.0000 - mae: 1418.0697 - val_loss: 1002.9298 - val_mae: 31.6691\n",
      "Epoch 42/50\n",
      "1/1 [==============================] - 0s 31ms/step - loss: 3347204.0000 - mae: 1402.7723 - val_loss: 2228.2588 - val_mae: 47.2044\n",
      "Epoch 43/50\n",
      "1/1 [==============================] - 0s 29ms/step - loss: 3303429.7500 - mae: 1387.1853 - val_loss: 3966.4087 - val_mae: 62.9794\n",
      "Epoch 44/50\n",
      "1/1 [==============================] - 0s 30ms/step - loss: 3259673.7500 - mae: 1371.3862 - val_loss: 6240.1514 - val_mae: 78.9946\n",
      "Epoch 45/50\n",
      "1/1 [==============================] - 0s 30ms/step - loss: 3215754.0000 - mae: 1355.3433 - val_loss: 9072.3770 - val_mae: 95.2490\n",
      "Epoch 46/50\n",
      "1/1 [==============================] - 0s 23ms/step - loss: 3171718.2500 - mae: 1339.0602 - val_loss: 12486.6299 - val_mae: 111.7436\n",
      "Epoch 47/50\n",
      "1/1 [==============================] - 0s 30ms/step - loss: 3127534.5000 - mae: 1322.5280 - val_loss: 16506.8223 - val_mae: 128.4789\n",
      "Epoch 48/50\n",
      "1/1 [==============================] - 0s 25ms/step - loss: 3083225.7500 - mae: 1305.7456 - val_loss: 21157.2871 - val_mae: 145.4554\n",
      "Epoch 49/50\n",
      "1/1 [==============================] - 0s 30ms/step - loss: 3038816.7500 - mae: 1288.7128 - val_loss: 26462.6152 - val_mae: 162.6733\n",
      "Epoch 50/50\n",
      "1/1 [==============================] - 0s 31ms/step - loss: 2994331.5000 - mae: 1271.4288 - val_loss: 32447.8086 - val_mae: 180.1328\n"
     ]
    }
   ],
   "source": [
    "# Train the model on the training data and evaluate it on the validation data\n",
    "history = model.fit(X_train, y_train, epochs=50, batch_size=32, validation_data=(X_test, y_test))\n",
    "#model.fit function provides fit stats calculated across all of the models \n",
    "#epoch refers to the one entire passing of training data through the algo"
   ]
  },
  {
   "cell_type": "code",
   "execution_count": 21,
   "id": "ec1c0378",
   "metadata": {},
   "outputs": [
    {
     "name": "stdout",
     "output_type": "stream",
     "text": [
      "1/1 [==============================] - 0s 188ms/step - loss: 539451.0000 - mae: 734.4733\n",
      "Test loss: [539451.0, 734.4732666015625]\n"
     ]
    }
   ],
   "source": [
    "# Evaluate the model\n",
    "test_loss = model.evaluate(X_test, y_test)\n",
    "print('Test loss:', test_loss)"
   ]
  },
  {
   "cell_type": "code",
   "execution_count": 26,
   "id": "23943216",
   "metadata": {},
   "outputs": [
    {
     "data": {
      "image/png": "[encoded data removed]",
      "text/plain": [
       "<Figure size 640x480 with 1 Axes>"
      ]
     },
     "metadata": {},
     "output_type": "display_data"
    }
   ],
   "source": [
    "# Plot training & validation loss values\n",
    "plt.plot(history.history['loss'])\n",
    "plt.plot(history.history['val_loss'])\n",
    "plt.title('Model loss')\n",
    "plt.ylabel('Loss')\n",
    "plt.xlabel('Epoch')\n",
    "plt.legend(['Train', 'Validation'], loc='upper left')\n",
    "plt.show()"
   ]
  },
  {
   "cell_type": "code",
   "execution_count": 27,
   "id": "35165b7e",
   "metadata": {},
   "outputs": [
    {
     "name": "stdout",
     "output_type": "stream",
     "text": [
      "1/1 [==============================] - 0s 44ms/step\n"
     ]
    },
    {
     "data": {
      "image/png": "[encoded data removed]",
      "text/plain": [
       "<Figure size 640x480 with 1 Axes>"
      ]
     },
     "metadata": {},
     "output_type": "display_data"
    }
   ],
   "source": [
    "# Plot predicted vs true sales values\n",
    "plt.scatter(y_test, model.predict(X_test))\n",
    "plt.xlabel('True Values')\n",
    "plt.ylabel('Predictions')\n",
    "plt.show()\n",
    "#This will create a scatter plot showing the predicted sales values on the y-axis and the true sales values on the x-axis. The y_test array contains the true sales values for the test set, while model.predict(X_test) contains the predicted sales values for the test set."
   ]
  },
  {
   "cell_type": "code",
   "execution_count": 30,
   "id": "ac299a48",
   "metadata": {},
   "outputs": [],
   "source": [
    "# Convert categorical variables to numerical values using one-hot encoding\n",
    "#data = pd.get_dummies(data, columns=['Item_Identifier', 'Item_Fat_Content', 'Item_Type', 'Outlet_Identifier', 'Outlet_Size', 'Outlet_Location_Type', 'Outlet_Type'])"
   ]
  },
  {
   "cell_type": "code",
   "execution_count": 28,
   "id": "0b53b4c9",
   "metadata": {},
   "outputs": [
    {
     "name": "stdout",
     "output_type": "stream",
     "text": [
      "1/1 [==============================] - 0s 995us/step\n"
     ]
    },
    {
     "data": {
      "text/plain": [
       "array([[651.36926],\n",
       "       [623.5556 ],\n",
       "       [634.64856],\n",
       "       [639.61304],\n",
       "       [618.2874 ]], dtype=float32)"
      ]
     },
     "execution_count": 28,
     "metadata": {},
     "output_type": "execute_result"
    }
   ],
   "source": [
    "model.predict(data.drop(['Item_Outlet_Sales'], axis=1).values.astype('float32'))\n",
    "#to predict the sales of the items"
   ]
  },
  {
   "cell_type": "code",
   "execution_count": null,
   "id": "ebdc3c8b",
   "metadata": {},
   "outputs": [],
   "source": []
  }
 ],
 "metadata": {
  "kernelspec": {
   "display_name": "Python 3 (ipykernel)",
   "language": "python",
   "name": "python3"
  },
  "language_info": {
   "codemirror_mode": {
    "name": "ipython",
    "version": 3
   },
   "file_extension": ".py",
   "mimetype": "text/x-python",
   "name": "python",
   "nbconvert_exporter": "python",
   "pygments_lexer": "ipython3",
   "version": "3.10.5"
  }
 },
 "nbformat": 4,
 "nbformat_minor": 5
}
